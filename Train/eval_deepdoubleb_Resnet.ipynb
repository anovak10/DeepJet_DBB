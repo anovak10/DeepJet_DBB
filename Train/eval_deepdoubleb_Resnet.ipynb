{
 "cells": [
  {
   "cell_type": "code",
   "execution_count": 1,
   "metadata": {},
   "outputs": [
    {
     "name": "stdout",
     "output_type": "stream",
     "text": [
      "['../modules', '../Train', '/inputdata/BumbleB/jduarte/miniconda2/envs/deepjetLinux3_gpu/lib', '/inputdata/BumbleB/jduarte/miniconda2/envs/deepjetLinux3_gpu/lib/python27.zip', '/inputdata/BumbleB/jduarte/miniconda2/envs/deepjetLinux3_gpu/lib/python2.7', '/inputdata/BumbleB/jduarte/miniconda2/envs/deepjetLinux3_gpu/lib/python2.7/plat-linux2', '/inputdata/BumbleB/jduarte/miniconda2/envs/deepjetLinux3_gpu/lib/python2.7/lib-tk', '/inputdata/BumbleB/jduarte/miniconda2/envs/deepjetLinux3_gpu/lib/python2.7/lib-old', '/inputdata/BumbleB/jduarte/miniconda2/envs/deepjetLinux3_gpu/lib/python2.7/lib-dynload', '/inputdata/BumbleB/jduarte/miniconda2/envs/deepjetLinux3_gpu/lib/python2.7/site-packages', '/inputdata/BumbleB/jduarte/miniconda2/envs/deepjetLinux3_gpu/lib/python2.7/site-packages/setuptools-27.2.0-py2.7.egg', '', '/opt/conda/envs/python2/lib/python27.zip', '/opt/conda/envs/python2/lib/python2.7', '/opt/conda/envs/python2/lib/python2.7/plat-linux2', '/opt/conda/envs/python2/lib/python2.7/lib-tk', '/opt/conda/envs/python2/lib/python2.7/lib-old', '/opt/conda/envs/python2/lib/python2.7/lib-dynload', '/opt/conda/envs/python2/lib/python2.7/site-packages', '/opt/conda/envs/python2/lib/python2.7/site-packages/Mako-1.0.7-py2.7.egg', '/opt/conda/envs/python2/lib/python2.7/site-packages/cycler-0.10.0-py2.7.egg', '/opt/conda/envs/python2/lib/python2.7/site-packages/IPython/extensions', '/home/jovyan/.ipython']\n"
     ]
    },
    {
     "name": "stderr",
     "output_type": "stream",
     "text": [
      "Using TensorFlow backend.\n"
     ]
    }
   ],
   "source": [
    "import sys\n",
    "import os\n",
    "copypath = ['../modules', \n",
    "            '../Train', \n",
    "            '/inputdata/BumbleB/jduarte/miniconda2/envs/deepjetLinux3_gpu/lib', \n",
    "            '/inputdata/BumbleB/jduarte/miniconda2/envs/deepjetLinux3_gpu/lib/python27.zip', \n",
    "            '/inputdata/BumbleB/jduarte/miniconda2/envs/deepjetLinux3_gpu/lib/python2.7', \n",
    "            '/inputdata/BumbleB/jduarte/miniconda2/envs/deepjetLinux3_gpu/lib/python2.7/plat-linux2', \n",
    "            '/inputdata/BumbleB/jduarte/miniconda2/envs/deepjetLinux3_gpu/lib/python2.7/lib-tk', \n",
    "            '/inputdata/BumbleB/jduarte/miniconda2/envs/deepjetLinux3_gpu/lib/python2.7/lib-old', \n",
    "            '/inputdata/BumbleB/jduarte/miniconda2/envs/deepjetLinux3_gpu/lib/python2.7/lib-dynload', \n",
    "            '/inputdata/BumbleB/jduarte/miniconda2/envs/deepjetLinux3_gpu/lib/python2.7/site-packages', \n",
    "            '/inputdata/BumbleB/jduarte/miniconda2/envs/deepjetLinux3_gpu/lib/python2.7/site-packages/setuptools-27.2.0-py2.7.egg']\n",
    "for p in reversed(copypath):\n",
    "    sys.path.insert(0, p)\n",
    "print sys.path\n",
    "os.environ['KERAS_BACKEND'] = 'tensorflow'\n",
    "os.environ['DEEPJET'] = '../../DeepJet'\n",
    "#os.environ['LD_LIBRARY_PATH'] = '../modules:%s'%os.environ['LD_LIBRARY_PATH']\n",
    "#os.environ['PATH'] = '../scripts:%s'%os.environ['PATH']\n",
    "#os.environ['CONDA_PREFIX'] = '/inputdata/BumbleB/jduarte/miniconda2/envs/deepjetLinux3_gpu'\n",
    "#os.environ['LD_PRELOAD'] = '%s/lib/libmkl_core.so:%s/lib/libmkl_sequential.so'%(os.environ['CONDA_PREFIX'],os.environ['CONDA_PREFIX'])\n",
    "import keras\n",
    "keras.backend.set_image_data_format('channels_first')"
   ]
  },
  {
   "cell_type": "code",
   "execution_count": 2,
   "metadata": {},
   "outputs": [
    {
     "name": "stdout",
     "output_type": "stream",
     "text": [
      "Tue Aug 29 18:20:55 2017       \n",
      "+-----------------------------------------------------------------------------+\n",
      "| NVIDIA-SMI 375.66                 Driver Version: 375.66                    |\n",
      "|-------------------------------+----------------------+----------------------+\n",
      "| GPU  Name        Persistence-M| Bus-Id        Disp.A | Volatile Uncorr. ECC |\n",
      "| Fan  Temp  Perf  Pwr:Usage/Cap|         Memory-Usage | GPU-Util  Compute M. |\n",
      "|===============================+======================+======================|\n",
      "|   0  GeForce GTX 1080    Off  | 0000:04:00.0     Off |                  N/A |\n",
      "| 27%   33C    P8     9W / 180W |      0MiB /  8114MiB |      0%      Default |\n",
      "+-------------------------------+----------------------+----------------------+\n",
      "|   1  GeForce GTX 1080    Off  | 0000:05:00.0     Off |                  N/A |\n",
      "| 27%   32C    P8     9W / 180W |   7781MiB /  8114MiB |      0%      Default |\n",
      "+-------------------------------+----------------------+----------------------+\n",
      "|   2  GeForce GTX 1080    Off  | 0000:06:00.0     Off |                  N/A |\n",
      "| 27%   35C    P8    10W / 180W |   7837MiB /  8114MiB |      0%      Default |\n",
      "+-------------------------------+----------------------+----------------------+\n",
      "|   3  GeForce GTX 1080    Off  | 0000:07:00.0     Off |                  N/A |\n",
      "| 27%   31C    P8     9W / 180W |   7781MiB /  8114MiB |      0%      Default |\n",
      "+-------------------------------+----------------------+----------------------+\n",
      "|   4  GeForce GTX 1080    Off  | 0000:0B:00.0     Off |                  N/A |\n",
      "| 27%   31C    P8    10W / 180W |   7839MiB /  8114MiB |      0%      Default |\n",
      "+-------------------------------+----------------------+----------------------+\n",
      "|   5  GeForce GTX 1080    Off  | 0000:0C:00.0     Off |                  N/A |\n",
      "| 38%   59C    P2   106W / 180W |   7783MiB /  8114MiB |      0%      Default |\n",
      "+-------------------------------+----------------------+----------------------+\n",
      "|   6  GeForce GTX 1080    Off  | 0000:0D:00.0     Off |                  N/A |\n",
      "| 27%   32C    P8     9W / 180W |      0MiB /  8114MiB |      0%      Default |\n",
      "+-------------------------------+----------------------+----------------------+\n",
      "|   7  GeForce GTX 1080    Off  | 0000:0E:00.0     Off |                  N/A |\n",
      "| 37%   55C    P2    48W / 180W |   7783MiB /  8114MiB |     63%      Default |\n",
      "+-------------------------------+----------------------+----------------------+\n",
      "                                                                               \n",
      "+-----------------------------------------------------------------------------+\n",
      "| Processes:                                                       GPU Memory |\n",
      "|  GPU       PID  Type  Process name                               Usage      |\n",
      "|=============================================================================|\n",
      "+-----------------------------------------------------------------------------+\n"
     ]
    }
   ],
   "source": [
    "!nvidia-smi"
   ]
  },
  {
   "cell_type": "code",
   "execution_count": 3,
   "metadata": {
    "collapsed": true
   },
   "outputs": [],
   "source": [
    "from keras.models import load_model\n",
    "from testing import testDescriptor\n",
    "from argparse import ArgumentParser\n",
    "from keras import backend as K\n",
    "from Losses import * #needed!\n",
    "import os\n",
    "import numpy as np\n",
    "import matplotlib\n",
    "#matplotlib.use('agg')\n",
    "import matplotlib.pyplot as plt"
   ]
  },
  {
   "cell_type": "code",
   "execution_count": 4,
   "metadata": {
    "collapsed": true
   },
   "outputs": [],
   "source": [
    "def makeRoc(testd, model, outputDir):\n",
    "    from sklearn.metrics import roc_curve, auc\n",
    "    from root_numpy import array2root\n",
    "    import pandas as pd\n",
    "\n",
    "    ## # summarize history for loss for training and test sample\n",
    "    ## plt.figure(1)\n",
    "    ## plt.plot(callbacks.history.history['loss'])\n",
    "    ## plt.plot(callbacks.history.history['val_loss'])\n",
    "    ## plt.title('model loss')\n",
    "    ## plt.ylabel('loss')\n",
    "    ## plt.xlabel('epoch')\n",
    "    ## plt.legend(['train', 'test'], loc='upper left')\n",
    "    ## plt.savefig(self.outputDir+'learningcurve.pdf') \n",
    "    ## plt.close(1)\n",
    "\n",
    "    ## plt.figure(2)\n",
    "    ## plt.plot(callbacks.history.history['acc'])\n",
    "    ## plt.plot(callbacks.history.history['val_acc'])\n",
    "    ## plt.title('model accuracy')\n",
    "    ## plt.ylabel('acc')\n",
    "    ## plt.xlabel('epoch')\n",
    "    ## plt.legend(['train', 'test'], loc='upper left')\n",
    "    ## plt.savefig(self.outputDir+'accuracycurve.pdf')\n",
    "    ## plt.close(2)\n",
    "\n",
    "    print 'in makeRoc()'\n",
    "    features_val=testd.getAllFeatures() \n",
    "    labels_val=testd.getAllLabels()[0]\n",
    "    weights_val=testd.getAllWeights()[0]\n",
    "    \n",
    "    # let's use only first 100000 entries\n",
    "    NENT = 100000\n",
    "    features_val = [fval[:NENT] for fval in features_val]\n",
    "    labels_val = labels_val[:NENT,:]\n",
    "    weights_val = weights_val[:NENT]\n",
    "    \n",
    "    df = pd.DataFrame(testd.getAllSpectators()[0][:NENT,0,:])\n",
    "    df.columns = ['fj_pt',\n",
    "                  'fj_eta',\n",
    "                  'fj_sdmass',\n",
    "                  'fj_n_sdsubjets',\n",
    "                  'fj_doubleb',\n",
    "                  'fj_tau21',\n",
    "                  'fj_tau32',\n",
    "                  'npv',\n",
    "                  'npfcands',\n",
    "                  'ntracks',\n",
    "                  'nsv']\n",
    "\n",
    "    print(df.iloc[:10])\n",
    "\n",
    "        \n",
    "    predict_test = model.predict(features_val)\n",
    "    df['fj_isH'] = labels_val[:,1]\n",
    "    df['fj_deepdoubleb'] = predict_test[:,1]\n",
    "\n",
    "    print(df.iloc[:10])\n",
    "\n",
    "    fpr, tpr, threshold = roc_curve(df['fj_isH'],df['fj_deepdoubleb'])\n",
    "    dfpr, dtpr, threshold1 = roc_curve(df['fj_isH'],df['fj_doubleb'])\n",
    "\n",
    "    def find_nearest(array,value):\n",
    "        idx = (np.abs(array-value)).argmin()\n",
    "        return idx, array[idx]\n",
    "\n",
    "    value = 0.01 # 1% mistag rate\n",
    "    idx, val = find_nearest(fpr, value)\n",
    "    deepdoublebcut = threshold[idx] # threshold for deep double-b corresponding to ~1% mistag rate\n",
    "    print('deep double-b > %f coresponds to %f%% QCD mistag rate'%(deepdoublebcut,100*val))\n",
    "\n",
    "    auc1 = auc(fpr, tpr)\n",
    "    auc2 = auc(dfpr, dtpr)\n",
    "\n",
    "    plt.figure()       \n",
    "    plt.plot(tpr,fpr,label='deep double-b, auc = %.1f%%'%(auc1*100))\n",
    "    plt.plot(dtpr,dfpr,label='BDT double-b, auc = %.1f%%'%(auc2*100))\n",
    "    plt.semilogy()\n",
    "    plt.xlabel(\"H(bb) efficiency\")\n",
    "    plt.ylabel(\"QCD mistag rate\")\n",
    "    plt.ylim(0.001,1)\n",
    "    plt.grid(True)\n",
    "    plt.legend()\n",
    "    plt.savefig(outputDir+\"test.pdf\")\n",
    "    \n",
    "    plt.figure()\n",
    "    bins = np.linspace(-1,1,70)\n",
    "    plt.hist(df['fj_doubleb'], bins=bins, weights = 1-df['fj_isH'],alpha=0.5,normed=True,label='QCD')\n",
    "    plt.hist(df['fj_doubleb'], bins=bins, weights = df['fj_isH'],alpha=0.5,normed=True,label='H(bb)')\n",
    "    plt.xlabel(\"BDT double-b\")\n",
    "    plt.legend(loc='upper left')\n",
    "    plt.savefig(outputDir+\"doubleb.pdf\")\n",
    "    \n",
    "    plt.figure()\n",
    "    bins = np.linspace(0,1,70)\n",
    "    plt.hist(df['fj_deepdoubleb'], bins=bins, weights = 1-df['fj_isH'],alpha=0.5,normed=True,label='QCD')\n",
    "    plt.hist(df['fj_deepdoubleb'], bins=bins, weights = df['fj_isH'],alpha=0.5,normed=True,label='H(bb)')\n",
    "    plt.xlabel(\"deep double-b\")\n",
    "    #plt.ylim(0.00001,1)\n",
    "    #plt.semilogy()\n",
    "    plt.legend(loc='upper left')\n",
    "    plt.savefig(outputDir+\"deepdoubleb.pdf\")\n",
    "    \n",
    "    plt.figure()\n",
    "    bins = np.linspace(0,2000,70)\n",
    "    plt.hist(df['fj_pt'], bins=bins, weights = 1-df['fj_isH'],alpha=0.5,normed=True,label='QCD')\n",
    "    plt.hist(df['fj_pt'], bins=bins, weights = df['fj_isH'],alpha=0.5,normed=True,label='H(bb)')\n",
    "    plt.xlabel(r'$p_{\\mathrm{T}}$')\n",
    "    plt.legend(loc='upper left')\n",
    "    plt.savefig(outputDir+\"pt.pdf\")\n",
    "    \n",
    "    plt.figure()\n",
    "    bins = np.linspace(0,200,70)\n",
    "    plt.hist(df['fj_sdmass'], bins=bins, weights = 1-df['fj_isH'],alpha=0.5,normed=True,label='QCD')\n",
    "    plt.hist(df['fj_sdmass'], bins=bins, weights = df['fj_isH'],alpha=0.5,normed=True,label='H(bb)')\n",
    "    plt.xlabel(r'$m_{\\mathrm{SD}}$')\n",
    "    plt.legend(loc='upper left')\n",
    "    plt.savefig(outputDir+\"msd.pdf\")\n",
    "    \n",
    "    plt.figure()\n",
    "    bins = np.linspace(0,200,70)\n",
    "    df_passdoubleb = df[df.fj_doubleb > 0.9]\n",
    "    plt.hist(df_passdoubleb['fj_sdmass'], bins=bins, weights = 1-df_passdoubleb['fj_isH'],alpha=0.5,normed=True,label='QCD')\n",
    "    plt.hist(df_passdoubleb['fj_sdmass'], bins=bins, weights = df_passdoubleb['fj_isH'],alpha=0.5,normed=True,label='H(bb)')\n",
    "    plt.xlabel(r'$m_{\\mathrm{SD}}$')\n",
    "    plt.legend(loc='upper left')\n",
    "    plt.savefig(outputDir+\"msd_passdoubleb.pdf\")\n",
    "    \n",
    "    plt.figure()\n",
    "    bins = np.linspace(0,200,70)\n",
    "    df_passdeepdoubleb = df[df.fj_deepdoubleb > deepdoublebcut]\n",
    "    plt.hist(df_passdeepdoubleb['fj_sdmass'], bins=bins, weights = 1-df_passdeepdoubleb['fj_isH'],alpha=0.5,normed=True,label='QCD')\n",
    "    plt.hist(df_passdeepdoubleb['fj_sdmass'], bins=bins, weights = df_passdeepdoubleb['fj_isH'],alpha=0.5,normed=True,label='H(bb)')\n",
    "    plt.xlabel(r'$m_{\\mathrm{SD}}$')\n",
    "    plt.legend(loc='upper left')\n",
    "    plt.savefig(outputDir+\"msd_passdeepdoubleb.pdf\")\n",
    "    \n",
    "    return df"
   ]
  },
  {
   "cell_type": "code",
   "execution_count": 5,
   "metadata": {},
   "outputs": [
    {
     "name": "stderr",
     "output_type": "stream",
     "text": [
      "/inputdata/BumbleB/jduarte/miniconda2/envs/deepjetLinux3_gpu/lib/python2.7/site-packages/matplotlib/__init__.py:1405: UserWarning: \n",
      "This call to matplotlib.use() has no effect because the backend has already\n",
      "been chosen; matplotlib.use() must be called *before* pylab, matplotlib.pyplot,\n",
      "or matplotlib.backends is imported for the first time.\n",
      "\n",
      "  warnings.warn(_use_error_msg)\n"
     ]
    },
    {
     "name": "stdout",
     "output_type": "stream",
     "text": [
      "in makeRoc()\n",
      "         fj_pt    fj_eta   fj_sdmass  fj_n_sdsubjets  fj_doubleb  fj_tau21  \\\n",
      "0  1341.753906 -0.857475   31.955616             2.0   -0.338851  0.574746   \n",
      "1  1199.216431  0.672301  184.797302             2.0    0.345067  0.597914   \n",
      "2  1198.793457  0.374637    7.449878             2.0   -0.271641  0.871469   \n",
      "3  1008.766174  0.051419  208.817795             2.0   -0.737059  0.481590   \n",
      "4  1217.592773 -0.273299    9.561430             2.0   -0.867258  0.825349   \n",
      "5  1177.484009 -0.108096   52.555882             2.0   -0.877467  0.780244   \n",
      "6  1038.037109  0.849492   16.399689             2.0   -0.750770  0.711005   \n",
      "7   994.958618  0.011310    9.822352             2.0   -0.557818  0.640318   \n",
      "8  1261.527100 -0.128758   11.176943             2.0   -0.852823  0.663784   \n",
      "9  1183.607300 -0.916067   11.959915             2.0    0.070836  0.670363   \n",
      "\n",
      "   fj_tau32   npv  npfcands  ntracks  nsv  \n",
      "0  0.830599  12.0      39.0     24.0  1.0  \n",
      "1  0.405185  12.0      98.0     60.0  4.0  \n",
      "2  0.817895   9.0      63.0     36.0  2.0  \n",
      "3  0.717645   9.0      98.0     64.0  2.0  \n",
      "4  0.809173  26.0      56.0     34.0  1.0  \n",
      "5  0.861208  26.0      73.0     43.0  2.0  \n",
      "6  0.867733  19.0      64.0     39.0  1.0  \n",
      "7  0.822523  19.0      49.0     23.0  0.0  \n",
      "8  0.821178  19.0      46.0     29.0  0.0  \n",
      "9  0.850317  19.0      97.0     46.0  4.0  \n",
      "         fj_pt    fj_eta   fj_sdmass  fj_n_sdsubjets  fj_doubleb  fj_tau21  \\\n",
      "0  1341.753906 -0.857475   31.955616             2.0   -0.338851  0.574746   \n",
      "1  1199.216431  0.672301  184.797302             2.0    0.345067  0.597914   \n",
      "2  1198.793457  0.374637    7.449878             2.0   -0.271641  0.871469   \n",
      "3  1008.766174  0.051419  208.817795             2.0   -0.737059  0.481590   \n",
      "4  1217.592773 -0.273299    9.561430             2.0   -0.867258  0.825349   \n",
      "5  1177.484009 -0.108096   52.555882             2.0   -0.877467  0.780244   \n",
      "6  1038.037109  0.849492   16.399689             2.0   -0.750770  0.711005   \n",
      "7   994.958618  0.011310    9.822352             2.0   -0.557818  0.640318   \n",
      "8  1261.527100 -0.128758   11.176943             2.0   -0.852823  0.663784   \n",
      "9  1183.607300 -0.916067   11.959915             2.0    0.070836  0.670363   \n",
      "\n",
      "   fj_tau32   npv  npfcands  ntracks  nsv  fj_isH  fj_deepdoubleb  \n",
      "0  0.830599  12.0      39.0     24.0  1.0     0.0        0.029879  \n",
      "1  0.405185  12.0      98.0     60.0  4.0     0.0        0.029879  \n",
      "2  0.817895   9.0      63.0     36.0  2.0     0.0        0.029879  \n",
      "3  0.717645   9.0      98.0     64.0  2.0     0.0        0.029879  \n",
      "4  0.809173  26.0      56.0     34.0  1.0     0.0        0.029879  \n",
      "5  0.861208  26.0      73.0     43.0  2.0     0.0        0.029879  \n",
      "6  0.867733  19.0      64.0     39.0  1.0     0.0        0.029879  \n",
      "7  0.822523  19.0      49.0     23.0  0.0     0.0        0.029879  \n",
      "8  0.821178  19.0      46.0     29.0  0.0     0.0        0.029879  \n",
      "9  0.850317  19.0      97.0     46.0  4.0     0.0        0.029879  \n",
      "deep double-b > 1.029879 coresponds to 0.000000% QCD mistag rate\n"
     ]
    },
    {
     "name": "stderr",
     "output_type": "stream",
     "text": [
      "/inputdata/BumbleB/jduarte/miniconda2/envs/deepjetLinux3_gpu/lib/python2.7/site-packages/matplotlib/axes/_axes.py:6097: UserWarning: 2D hist input should be nsamples x nvariables;\n",
      " this looks transposed (shape is 0 x 1)\n",
      "  '(shape is %d x %d)' % inp.shape[::-1])\n",
      "/inputdata/BumbleB/jduarte/miniconda2/envs/deepjetLinux3_gpu/lib/python2.7/site-packages/matplotlib/axes/_axes.py:6201: RuntimeWarning: invalid value encountered in true_divide\n",
      "  m = (m.astype(float) / db) / m.sum()\n"
     ]
    },
    {
     "data": {
      "image/png": "[encoded data removed]",
      "text/plain": [
       "<matplotlib.figure.Figure at 0x7f728d2535d0>"
      ]
     },
     "metadata": {},
     "output_type": "display_data"
    },
    {
     "data": {
      "image/png": "[encoded data removed]",
      "text/plain": [
       "<matplotlib.figure.Figure at 0x7f72a408aa50>"
      ]
     },
     "metadata": {},
     "output_type": "display_data"
    },
    {
     "data": {
      "image/png": "[encoded data removed]",
      "text/plain": [
       "<matplotlib.figure.Figure at 0x7f7268b88750>"
      ]
     },
     "metadata": {},
     "output_type": "display_data"
    },
    {
     "data": {
      "image/png": "[encoded data removed]",
      "text/plain": [
       "<matplotlib.figure.Figure at 0x7f727d1f32d0>"
      ]
     },
     "metadata": {},
     "output_type": "display_data"
    },
    {
     "data": {
      "image/png": "[encoded data removed]",
      "text/plain": [
       "<matplotlib.figure.Figure at 0x7f72643b4150>"
      ]
     },
     "metadata": {},
     "output_type": "display_data"
    },
    {
     "data": {
      "image/png": "[encoded data removed]",
      "text/plain": [
       "<matplotlib.figure.Figure at 0x7f7264377410>"
      ]
     },
     "metadata": {},
     "output_type": "display_data"
    },
    {
     "data": {
      "image/png": "[encoded data removed]",
      "text/plain": [
       "<matplotlib.figure.Figure at 0x7f72522a6d90>"
      ]
     },
     "metadata": {},
     "output_type": "display_data"
    }
   ],
   "source": [
    "os.environ['CUDA_VISIBLE_DEVICES'] = '0'\n",
    "\n",
    "#inputModel = '/inputdata/BumbleB/jduarte/DeepJet/Train/train_Resnet_sv/KERAS_check_best_model.h5'\n",
    "inputModel = 'train_Resnet_sv_deepnew_3layers/KERAS_check_best_model.h5'\n",
    "outputDir = 'out_Resnet_sv_deepnew_3layers/'\n",
    "inputDataCollection = '/inputdata/BumbleB/convert_deepDoubleB_init_test/dataCollection.dc'\n",
    "\n",
    "if os.path.isdir(outputDir):\n",
    "    raise Exception('output directory must not exists yet')\n",
    "else: \n",
    "    os.mkdir(outputDir)\n",
    "\n",
    "model=load_model(inputModel, custom_objects=global_loss_list)\n",
    "    \n",
    "#print(model.summary())\n",
    "    \n",
    "td=testDescriptor()\n",
    "    \n",
    "from DataCollection import DataCollection\n",
    "    \n",
    "testd=DataCollection()\n",
    "testd.readFromFile(inputDataCollection)\n",
    "    \n",
    "df = makeRoc(testd, model, outputDir)"
   ]
  },
  {
   "cell_type": "code",
   "execution_count": null,
   "metadata": {
    "collapsed": true
   },
   "outputs": [],
   "source": [
    "!rm -r out_Resnet_sv_deepnew"
   ]
  },
  {
   "cell_type": "code",
   "execution_count": null,
   "metadata": {
    "collapsed": true
   },
   "outputs": [],
   "source": []
  }
 ],
 "metadata": {
  "kernelspec": {
   "display_name": "Python 2",
   "language": "python",
   "name": "python2"
  },
  "language_info": {
   "codemirror_mode": {
    "name": "ipython",
    "version": 2
   },
   "file_extension": ".py",
   "mimetype": "text/x-python",
   "name": "python",
   "nbconvert_exporter": "python",
   "pygments_lexer": "ipython2",
   "version": "2.7.13"
  }
 },
 "nbformat": 4,
 "nbformat_minor": 2
}

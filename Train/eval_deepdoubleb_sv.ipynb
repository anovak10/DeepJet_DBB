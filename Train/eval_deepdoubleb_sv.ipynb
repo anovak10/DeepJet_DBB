{
 "cells": [
  {
   "cell_type": "code",
   "execution_count": 1,
   "metadata": {},
   "outputs": [
    {
     "name": "stdout",
     "output_type": "stream",
     "text": [
      "['../modules', '../Train', '/inputdata/BumbleB/jduarte/miniconda2/envs/deepjetLinux3_gpu/lib', '/inputdata/BumbleB/jduarte/miniconda2/envs/deepjetLinux3_gpu/lib/python27.zip', '/inputdata/BumbleB/jduarte/miniconda2/envs/deepjetLinux3_gpu/lib/python2.7', '/inputdata/BumbleB/jduarte/miniconda2/envs/deepjetLinux3_gpu/lib/python2.7/plat-linux2', '/inputdata/BumbleB/jduarte/miniconda2/envs/deepjetLinux3_gpu/lib/python2.7/lib-tk', '/inputdata/BumbleB/jduarte/miniconda2/envs/deepjetLinux3_gpu/lib/python2.7/lib-old', '/inputdata/BumbleB/jduarte/miniconda2/envs/deepjetLinux3_gpu/lib/python2.7/lib-dynload', '/inputdata/BumbleB/jduarte/miniconda2/envs/deepjetLinux3_gpu/lib/python2.7/site-packages', '/inputdata/BumbleB/jduarte/miniconda2/envs/deepjetLinux3_gpu/lib/python2.7/site-packages/setuptools-27.2.0-py2.7.egg', '', '/opt/conda/envs/python2/lib/python27.zip', '/opt/conda/envs/python2/lib/python2.7', '/opt/conda/envs/python2/lib/python2.7/plat-linux2', '/opt/conda/envs/python2/lib/python2.7/lib-tk', '/opt/conda/envs/python2/lib/python2.7/lib-old', '/opt/conda/envs/python2/lib/python2.7/lib-dynload', '/opt/conda/envs/python2/lib/python2.7/site-packages', '/opt/conda/envs/python2/lib/python2.7/site-packages/Mako-1.0.7-py2.7.egg', '/opt/conda/envs/python2/lib/python2.7/site-packages/cycler-0.10.0-py2.7.egg', '/opt/conda/envs/python2/lib/python2.7/site-packages/IPython/extensions', '/home/jovyan/.ipython']\n"
     ]
    },
    {
     "name": "stderr",
     "output_type": "stream",
     "text": [
      "Using TensorFlow backend.\n"
     ]
    }
   ],
   "source": [
    "import sys\n",
    "import os\n",
    "copypath = ['../modules', \n",
    "            '../Train', \n",
    "            '/inputdata/BumbleB/jduarte/miniconda2/envs/deepjetLinux3_gpu/lib', \n",
    "            '/inputdata/BumbleB/jduarte/miniconda2/envs/deepjetLinux3_gpu/lib/python27.zip', \n",
    "            '/inputdata/BumbleB/jduarte/miniconda2/envs/deepjetLinux3_gpu/lib/python2.7', \n",
    "            '/inputdata/BumbleB/jduarte/miniconda2/envs/deepjetLinux3_gpu/lib/python2.7/plat-linux2', \n",
    "            '/inputdata/BumbleB/jduarte/miniconda2/envs/deepjetLinux3_gpu/lib/python2.7/lib-tk', \n",
    "            '/inputdata/BumbleB/jduarte/miniconda2/envs/deepjetLinux3_gpu/lib/python2.7/lib-old', \n",
    "            '/inputdata/BumbleB/jduarte/miniconda2/envs/deepjetLinux3_gpu/lib/python2.7/lib-dynload', \n",
    "            '/inputdata/BumbleB/jduarte/miniconda2/envs/deepjetLinux3_gpu/lib/python2.7/site-packages', \n",
    "            '/inputdata/BumbleB/jduarte/miniconda2/envs/deepjetLinux3_gpu/lib/python2.7/site-packages/setuptools-27.2.0-py2.7.egg']\n",
    "for p in reversed(copypath):\n",
    "    sys.path.insert(0, p)\n",
    "print sys.path\n",
    "os.environ['KERAS_BACKEND'] = 'tensorflow'\n",
    "os.environ['DEEPJET'] = '../../DeepJet'\n",
    "#os.environ['LD_LIBRARY_PATH'] = '../modules:%s'%os.environ['LD_LIBRARY_PATH']\n",
    "#os.environ['PATH'] = '../scripts:%s'%os.environ['PATH']\n",
    "#os.environ['CONDA_PREFIX'] = '/inputdata/BumbleB/jduarte/miniconda2/envs/deepjetLinux3_gpu'\n",
    "#os.environ['LD_PRELOAD'] = '%s/lib/libmkl_core.so:%s/lib/libmkl_sequential.so'%(os.environ['CONDA_PREFIX'],os.environ['CONDA_PREFIX'])\n",
    "import keras\n",
    "keras.backend.set_image_data_format('channels_last')"
   ]
  },
  {
   "cell_type": "code",
   "execution_count": 2,
   "metadata": {},
   "outputs": [
    {
     "name": "stdout",
     "output_type": "stream",
     "text": [
      "Mon Sep 18 19:44:15 2017       \n",
      "+-----------------------------------------------------------------------------+\n",
      "| NVIDIA-SMI 375.66                 Driver Version: 375.66                    |\n",
      "|-------------------------------+----------------------+----------------------+\n",
      "| GPU  Name        Persistence-M| Bus-Id        Disp.A | Volatile Uncorr. ECC |\n",
      "| Fan  Temp  Perf  Pwr:Usage/Cap|         Memory-Usage | GPU-Util  Compute M. |\n",
      "|===============================+======================+======================|\n",
      "|   0  GeForce GTX 1080    Off  | 0000:04:00.0     Off |                  N/A |\n",
      "| 27%   36C    P8     9W / 180W |      0MiB /  8114MiB |      0%      Default |\n",
      "+-------------------------------+----------------------+----------------------+\n",
      "|   1  GeForce GTX 1080    Off  | 0000:05:00.0     Off |                  N/A |\n",
      "| 27%   35C    P8    10W / 180W |      0MiB /  8114MiB |      0%      Default |\n",
      "+-------------------------------+----------------------+----------------------+\n",
      "|   2  GeForce GTX 1080    Off  | 0000:06:00.0     Off |                  N/A |\n",
      "| 27%   38C    P8    10W / 180W |   7839MiB /  8114MiB |      0%      Default |\n",
      "+-------------------------------+----------------------+----------------------+\n",
      "|   3  GeForce GTX 1080    Off  | 0000:07:00.0     Off |                  N/A |\n",
      "| 27%   34C    P8     9W / 180W |   7839MiB /  8114MiB |      0%      Default |\n",
      "+-------------------------------+----------------------+----------------------+\n",
      "|   4  GeForce GTX 1080    Off  | 0000:0B:00.0     Off |                  N/A |\n",
      "| 27%   34C    P8    10W / 180W |    203MiB /  8114MiB |      0%      Default |\n",
      "+-------------------------------+----------------------+----------------------+\n",
      "|   5  GeForce GTX 1080    Off  | 0000:0C:00.0     Off |                  N/A |\n",
      "| 27%   36C    P8     9W / 180W |   7781MiB /  8114MiB |      0%      Default |\n",
      "+-------------------------------+----------------------+----------------------+\n",
      "|   6  GeForce GTX 1080    Off  | 0000:0D:00.0     Off |                  N/A |\n",
      "| 27%   35C    P8     9W / 180W |   7839MiB /  8114MiB |      0%      Default |\n",
      "+-------------------------------+----------------------+----------------------+\n",
      "|   7  GeForce GTX 1080    Off  | 0000:0E:00.0     Off |                  N/A |\n",
      "| 27%   37C    P8     9W / 180W |      0MiB /  8114MiB |      0%      Default |\n",
      "+-------------------------------+----------------------+----------------------+\n",
      "                                                                               \n",
      "+-----------------------------------------------------------------------------+\n",
      "| Processes:                                                       GPU Memory |\n",
      "|  GPU       PID  Type  Process name                               Usage      |\n",
      "|=============================================================================|\n",
      "+-----------------------------------------------------------------------------+\n"
     ]
    }
   ],
   "source": [
    "!nvidia-smi"
   ]
  },
  {
   "cell_type": "code",
   "execution_count": 3,
   "metadata": {
    "collapsed": true
   },
   "outputs": [],
   "source": [
    "from keras.models import load_model, Model\n",
    "from testing import testDescriptor\n",
    "from argparse import ArgumentParser\n",
    "from keras import backend as K\n",
    "from Losses import * #needed!\n",
    "import os\n",
    "import numpy as np\n",
    "import matplotlib\n",
    "#matplotlib.use('agg')\n",
    "import matplotlib.pyplot as plt\n",
    "from sklearn.metrics import roc_curve, auc\n",
    "from root_numpy import array2root\n",
    "import pandas as pd"
   ]
  },
  {
   "cell_type": "code",
   "execution_count": 4,
   "metadata": {
    "collapsed": true
   },
   "outputs": [],
   "source": [
    "def makeRoc(testd, model, outputDir):\n",
    "    \n",
    "    print 'in makeRoc()'\n",
    "    #predict_test = np.zeros(testd.nsamples)\n",
    "    #first = True\n",
    "    #for sample in testd.samples[0:2]:\n",
    "    #    print sample  \n",
    "    #    td = testd.dataclass\n",
    "    #    td.readIn(testd.getSamplePath(sample))\n",
    "    #    if first:\n",
    "    #        predict_test = model.predict(td.x)\n",
    "    #    else:\n",
    "    #        predict_test = np.append(predict_test,model.predict(td.x)) \n",
    "    #    first = False\n",
    "    \n",
    "    # let's use every jet\n",
    "    NENT = 1\n",
    "    features_val = [fval[::NENT] for fval in testd.getAllFeatures()]\n",
    "    labels_val=testd.getAllLabels()[0][::NENT,:]\n",
    "    #weights_val=testd.getAllWeights()[0][::NENT]\n",
    "    spectators_val = testd.getAllSpectators()[0][::NENT,0,:]\n",
    "    df = pd.DataFrame(spectators_val)\n",
    "    df.columns = ['fj_pt',\n",
    "                  'fj_eta',\n",
    "                  'fj_sdmass',\n",
    "                  'fj_n_sdsubjets',\n",
    "                  'fj_doubleb',\n",
    "                  'fj_tau21',\n",
    "                  'fj_tau32',\n",
    "                  'npv',\n",
    "                  'npfcands',\n",
    "                  'ntracks',\n",
    "                  'nsv']\n",
    "\n",
    "    print(df.iloc[:10])\n",
    "\n",
    "        \n",
    "    predict_test = model.predict(features_val)\n",
    "    df['fj_isH'] = labels_val[:,1]\n",
    "    df['fj_deepdoubleb'] = predict_test[:,1]\n",
    "    df = df[(df.fj_sdmass > 40) & (df.fj_sdmass < 200) & (df.fj_pt > 300) &  (df.fj_pt < 2500)]\n",
    "\n",
    "    print(df.iloc[:10])\n",
    "\n",
    "    fpr, tpr, threshold = roc_curve(df['fj_isH'],df['fj_deepdoubleb'])\n",
    "    dfpr, dtpr, threshold1 = roc_curve(df['fj_isH'],df['fj_doubleb'])\n",
    "\n",
    "    def find_nearest(array,value):\n",
    "        idx = (np.abs(array-value)).argmin()\n",
    "        return idx, array[idx]\n",
    "\n",
    "    value = 0.01 # 1% mistag rate\n",
    "    idx, val = find_nearest(fpr, value)\n",
    "    deepdoublebcut = threshold[idx] # threshold for deep double-b corresponding to ~1% mistag rate\n",
    "    print('deep double-b > %f coresponds to %f%% QCD mistag rate'%(deepdoublebcut,100*val))\n",
    "\n",
    "    auc1 = auc(fpr, tpr)\n",
    "    auc2 = auc(dfpr, dtpr)\n",
    "\n",
    "    plt.figure()       \n",
    "    plt.plot(tpr,fpr,label='deep double-b, auc = %.1f%%'%(auc1*100))\n",
    "    plt.plot(dtpr,dfpr,label='BDT double-b, auc = %.1f%%'%(auc2*100))\n",
    "    plt.semilogy()\n",
    "    plt.xlabel(\"H(bb) efficiency\")\n",
    "    plt.ylabel(\"QCD mistag rate\")\n",
    "    plt.ylim(0.001,1)\n",
    "    plt.grid(True)\n",
    "    plt.legend()\n",
    "    plt.savefig(outputDir+\"test.pdf\")\n",
    "    \n",
    "    plt.figure()\n",
    "    bins = np.linspace(-1,1,70)\n",
    "    plt.hist(df['fj_doubleb'], bins=bins, weights = 1-df['fj_isH'],alpha=0.5,normed=True,label='QCD')\n",
    "    plt.hist(df['fj_doubleb'], bins=bins, weights = df['fj_isH'],alpha=0.5,normed=True,label='H(bb)')\n",
    "    plt.xlabel(\"BDT double-b\")\n",
    "    plt.legend(loc='upper left')\n",
    "    plt.savefig(outputDir+\"doubleb.pdf\")\n",
    "    \n",
    "    plt.figure()\n",
    "    bins = np.linspace(0,1,70)\n",
    "    plt.hist(df['fj_deepdoubleb'], bins=bins, weights = 1-df['fj_isH'],alpha=0.5,normed=True,label='QCD')\n",
    "    plt.hist(df['fj_deepdoubleb'], bins=bins, weights = df['fj_isH'],alpha=0.5,normed=True,label='H(bb)')\n",
    "    plt.xlabel(\"deep double-b\")\n",
    "    #plt.ylim(0.00001,1)\n",
    "    #plt.semilogy()\n",
    "    plt.legend(loc='upper left')\n",
    "    plt.savefig(outputDir+\"deepdoubleb.pdf\")\n",
    "    \n",
    "    plt.figure()\n",
    "    bins = np.linspace(0,2000,70)\n",
    "    plt.hist(df['fj_pt'], bins=bins, weights = 1-df['fj_isH'],alpha=0.5,normed=True,label='QCD')\n",
    "    plt.hist(df['fj_pt'], bins=bins, weights = df['fj_isH'],alpha=0.5,normed=True,label='H(bb)')\n",
    "    plt.xlabel(r'$p_{\\mathrm{T}}$')\n",
    "    plt.legend(loc='upper left')\n",
    "    plt.savefig(outputDir+\"pt.pdf\")\n",
    "    \n",
    "    plt.figure()\n",
    "    bins = np.linspace(0,200,70)\n",
    "    plt.hist(df['fj_sdmass'], bins=bins, weights = 1-df['fj_isH'],alpha=0.5,normed=True,label='QCD')\n",
    "    plt.hist(df['fj_sdmass'], bins=bins, weights = df['fj_isH'],alpha=0.5,normed=True,label='H(bb)')\n",
    "    plt.xlabel(r'$m_{\\mathrm{SD}}$')\n",
    "    plt.legend(loc='upper left')\n",
    "    plt.savefig(outputDir+\"msd.pdf\")\n",
    "    \n",
    "    plt.figure()\n",
    "    bins = np.linspace(0,200,70)\n",
    "    df_passdoubleb = df[df.fj_doubleb > 0.9]\n",
    "    plt.hist(df_passdoubleb['fj_sdmass'], bins=bins, weights = 1-df_passdoubleb['fj_isH'],alpha=0.5,normed=True,label='QCD')\n",
    "    plt.hist(df_passdoubleb['fj_sdmass'], bins=bins, weights = df_passdoubleb['fj_isH'],alpha=0.5,normed=True,label='H(bb)')\n",
    "    plt.xlabel(r'$m_{\\mathrm{SD}}$')\n",
    "    plt.legend(loc='upper left')\n",
    "    plt.savefig(outputDir+\"msd_passdoubleb.pdf\")\n",
    "    \n",
    "    plt.figure()\n",
    "    bins = np.linspace(0,200,70)\n",
    "    df_passdeepdoubleb = df[df.fj_deepdoubleb > deepdoublebcut]\n",
    "    plt.hist(df_passdeepdoubleb['fj_sdmass'], bins=bins, weights = 1-df_passdeepdoubleb['fj_isH'],alpha=0.5,normed=True,label='QCD')\n",
    "    plt.hist(df_passdeepdoubleb['fj_sdmass'], bins=bins, weights = df_passdeepdoubleb['fj_isH'],alpha=0.5,normed=True,label='H(bb)')\n",
    "    plt.xlabel(r'$m_{\\mathrm{SD}}$')\n",
    "    plt.legend(loc='upper left')\n",
    "    plt.savefig(outputDir+\"msd_passdeepdoubleb.pdf\")\n",
    "    \n",
    "    return df"
   ]
  },
  {
   "cell_type": "code",
   "execution_count": 5,
   "metadata": {
    "collapsed": true
   },
   "outputs": [],
   "source": [
    "!rm -r out_deep_sv"
   ]
  },
  {
   "cell_type": "code",
   "execution_count": 6,
   "metadata": {},
   "outputs": [
    {
     "name": "stderr",
     "output_type": "stream",
     "text": [
      "/inputdata/BumbleB/jduarte/miniconda2/envs/deepjetLinux3_gpu/lib/python2.7/site-packages/matplotlib/__init__.py:1405: UserWarning: \n",
      "This call to matplotlib.use() has no effect because the backend has already\n",
      "been chosen; matplotlib.use() must be called *before* pylab, matplotlib.pyplot,\n",
      "or matplotlib.backends is imported for the first time.\n",
      "\n",
      "  warnings.warn(_use_error_msg)\n"
     ]
    },
    {
     "name": "stdout",
     "output_type": "stream",
     "text": [
      "in makeRoc()\n",
      "ntuple_merged_0.z\n",
      "ntuple_merged_10.z\n",
      "ntuple_merged_11.z\n",
      "ntuple_merged_12.z\n",
      "ntuple_merged_13.z\n",
      "ntuple_merged_14.z\n",
      "ntuple_merged_15.z\n",
      "ntuple_merged_16.z\n",
      "ntuple_merged_17.z\n",
      "ntuple_merged_18.z\n",
      "ntuple_merged_19.z\n",
      "ntuple_merged_1.z\n",
      "ntuple_merged_20.z\n",
      "ntuple_merged_21.z\n",
      "ntuple_merged_22.z\n",
      "ntuple_merged_23.z\n",
      "ntuple_merged_24.z\n",
      "ntuple_merged_25.z\n",
      "ntuple_merged_26.z\n",
      "ntuple_merged_27.z\n",
      "ntuple_merged_28.z\n",
      "ntuple_merged_29.z\n",
      "ntuple_merged_2.z\n",
      "ntuple_merged_30.z\n",
      "ntuple_merged_31.z\n",
      "ntuple_merged_32.z\n",
      "ntuple_merged_33.z\n",
      "ntuple_merged_34.z\n",
      "ntuple_merged_35.z\n",
      "ntuple_merged_36.z\n",
      "ntuple_merged_37.z\n",
      "ntuple_merged_3.z\n",
      "ntuple_merged_4.z\n",
      "ntuple_merged_5.z\n",
      "ntuple_merged_6.z\n",
      "ntuple_merged_7.z\n",
      "ntuple_merged_8.z\n",
      "ntuple_merged_9.z\n",
      "ntuple_merged_0.z\n",
      "ntuple_merged_10.z\n",
      "ntuple_merged_11.z\n",
      "ntuple_merged_12.z\n",
      "ntuple_merged_13.z\n",
      "ntuple_merged_14.z\n",
      "ntuple_merged_15.z\n",
      "ntuple_merged_16.z\n",
      "ntuple_merged_17.z\n",
      "ntuple_merged_18.z\n",
      "ntuple_merged_19.z\n",
      "ntuple_merged_1.z\n",
      "ntuple_merged_20.z\n",
      "ntuple_merged_21.z\n",
      "ntuple_merged_22.z\n",
      "ntuple_merged_23.z\n",
      "ntuple_merged_24.z\n",
      "ntuple_merged_25.z\n",
      "ntuple_merged_26.z\n",
      "ntuple_merged_27.z\n",
      "ntuple_merged_28.z\n",
      "ntuple_merged_29.z\n",
      "ntuple_merged_2.z\n",
      "ntuple_merged_30.z\n",
      "ntuple_merged_31.z\n",
      "ntuple_merged_32.z\n",
      "ntuple_merged_33.z\n",
      "ntuple_merged_34.z\n",
      "ntuple_merged_35.z\n",
      "ntuple_merged_36.z\n",
      "ntuple_merged_37.z\n",
      "ntuple_merged_3.z\n",
      "ntuple_merged_4.z\n",
      "ntuple_merged_5.z\n",
      "ntuple_merged_6.z\n",
      "ntuple_merged_7.z\n",
      "ntuple_merged_8.z\n",
      "ntuple_merged_9.z\n",
      "ntuple_merged_0.z\n",
      "ntuple_merged_10.z\n",
      "ntuple_merged_11.z\n",
      "ntuple_merged_12.z\n",
      "ntuple_merged_13.z\n",
      "ntuple_merged_14.z\n",
      "ntuple_merged_15.z\n",
      "ntuple_merged_16.z\n",
      "ntuple_merged_17.z\n",
      "ntuple_merged_18.z\n",
      "ntuple_merged_19.z\n",
      "ntuple_merged_1.z\n",
      "ntuple_merged_20.z\n",
      "ntuple_merged_21.z\n",
      "ntuple_merged_22.z\n",
      "ntuple_merged_23.z\n",
      "ntuple_merged_24.z\n",
      "ntuple_merged_25.z\n",
      "ntuple_merged_26.z\n",
      "ntuple_merged_27.z\n",
      "ntuple_merged_28.z\n",
      "ntuple_merged_29.z\n",
      "ntuple_merged_2.z\n",
      "ntuple_merged_30.z\n",
      "ntuple_merged_31.z\n",
      "ntuple_merged_32.z\n",
      "ntuple_merged_33.z\n",
      "ntuple_merged_34.z\n",
      "ntuple_merged_35.z\n",
      "ntuple_merged_36.z\n",
      "ntuple_merged_37.z\n",
      "ntuple_merged_3.z\n",
      "ntuple_merged_4.z\n",
      "ntuple_merged_5.z\n",
      "ntuple_merged_6.z\n",
      "ntuple_merged_7.z\n",
      "ntuple_merged_8.z\n",
      "ntuple_merged_9.z\n",
      "         fj_pt    fj_eta   fj_sdmass  fj_n_sdsubjets  fj_doubleb  fj_tau21  \\\n",
      "0  1341.753906 -0.857475   31.955616             2.0   -0.338851  0.574746   \n",
      "1  1199.216431  0.672301  184.797302             2.0    0.345067  0.597914   \n",
      "2  1198.793457  0.374637    7.449878             2.0   -0.271641  0.871469   \n",
      "3  1008.766174  0.051419  208.817795             2.0   -0.737059  0.481590   \n",
      "4  1217.592773 -0.273299    9.561430             2.0   -0.867258  0.825349   \n",
      "5  1177.484009 -0.108096   52.555882             2.0   -0.877467  0.780244   \n",
      "6  1038.037109  0.849492   16.399689             2.0   -0.750770  0.711005   \n",
      "7   994.958618  0.011310    9.822352             2.0   -0.557818  0.640318   \n",
      "8  1261.527100 -0.128758   11.176943             2.0   -0.852823  0.663784   \n",
      "9  1183.607300 -0.916067   11.959915             2.0    0.070836  0.670363   \n",
      "\n",
      "   fj_tau32   npv  npfcands  ntracks  nsv  \n",
      "0  0.830599  12.0      39.0     24.0  1.0  \n",
      "1  0.405185  12.0      98.0     60.0  4.0  \n",
      "2  0.817895   9.0      63.0     36.0  2.0  \n",
      "3  0.717645   9.0      98.0     64.0  2.0  \n",
      "4  0.809173  26.0      56.0     34.0  1.0  \n",
      "5  0.861208  26.0      73.0     43.0  2.0  \n",
      "6  0.867733  19.0      64.0     39.0  1.0  \n",
      "7  0.822523  19.0      49.0     23.0  0.0  \n",
      "8  0.821178  19.0      46.0     29.0  0.0  \n",
      "9  0.850317  19.0      97.0     46.0  4.0  \n",
      "          fj_pt    fj_eta   fj_sdmass  fj_n_sdsubjets  fj_doubleb  fj_tau21  \\\n",
      "1   1199.216431  0.672301  184.797302             2.0    0.345067  0.597914   \n",
      "5   1177.484009 -0.108096   52.555882             2.0   -0.877467  0.780244   \n",
      "14  1088.411377 -0.858733  131.105362             2.0   -0.895756  0.556090   \n",
      "20   362.156677 -0.488698   92.496086             2.0    0.121247  0.480002   \n",
      "23   925.673279  1.335866   74.174583             2.0   -0.891657  0.725364   \n",
      "26   420.440796  0.166369   47.708626             2.0   -0.894478  0.728459   \n",
      "30  1015.301208  0.979634   91.096527             2.0   -0.714688  0.770945   \n",
      "31   450.552368  0.820563  120.283592             2.0    0.857034  0.570674   \n",
      "32   439.238007  1.495814  132.286911             2.0    0.928547  0.263519   \n",
      "36   871.554382 -1.376842   74.774193             2.0    0.761476  0.750728   \n",
      "\n",
      "    fj_tau32   npv  npfcands  ntracks  nsv  fj_isH  fj_deepdoubleb  \n",
      "1   0.405185  12.0      98.0     60.0  4.0     0.0        0.061193  \n",
      "5   0.861208  26.0      73.0     43.0  2.0     0.0        0.022174  \n",
      "14  0.727028  15.0     134.0     63.0  1.0     0.0        0.008358  \n",
      "20  0.540602  13.0      71.0     39.0  3.0     1.0        0.060273  \n",
      "23  0.865893  13.0     110.0     53.0  1.0     0.0        0.008065  \n",
      "26  0.849766  27.0      87.0     38.0  1.0     0.0        0.006269  \n",
      "30  0.748701  24.0      95.0     45.0  1.0     0.0        0.016240  \n",
      "31  0.466099  19.0      61.0     30.0  4.0     1.0        0.327254  \n",
      "32  0.918601  19.0      83.0     48.0  3.0     1.0        0.715440  \n",
      "36  0.871929  23.0     132.0     65.0  3.0     0.0        0.231013  \n",
      "deep double-b > 0.568303 coresponds to 0.999987% QCD mistag rate\n"
     ]
    },
    {
     "data": {
      "image/png": "[encoded data removed]",
      "text/plain": [
       "<matplotlib.figure.Figure at 0x7f6400426d50>"
      ]
     },
     "metadata": {},
     "output_type": "display_data"
    },
    {
     "data": {
      "image/png": "[encoded data removed]",
      "text/plain": [
       "<matplotlib.figure.Figure at 0x7f63b06e54d0>"
      ]
     },
     "metadata": {},
     "output_type": "display_data"
    },
    {
     "data": {
      "image/png": "[encoded data removed]",
      "text/plain": [
       "<matplotlib.figure.Figure at 0x7f63a80d6550>"
      ]
     },
     "metadata": {},
     "output_type": "display_data"
    },
    {
     "data": {
      "image/png": "[encoded data removed]",
      "text/plain": [
       "<matplotlib.figure.Figure at 0x7f6378520710>"
      ]
     },
     "metadata": {},
     "output_type": "display_data"
    },
    {
     "data": {
      "image/png": "[encoded data removed]",
      "text/plain": [
       "<matplotlib.figure.Figure at 0x7f63780e4ed0>"
      ]
     },
     "metadata": {},
     "output_type": "display_data"
    },
    {
     "data": {
      "image/png": "[encoded data removed]",
      "text/plain": [
       "<matplotlib.figure.Figure at 0x7f63780b2210>"
      ]
     },
     "metadata": {},
     "output_type": "display_data"
    },
    {
     "data": {
      "image/png": "[encoded data removed]",
      "text/plain": [
       "<matplotlib.figure.Figure at 0x7f62f2a4a550>"
      ]
     },
     "metadata": {},
     "output_type": "display_data"
    }
   ],
   "source": [
    "os.environ['CUDA_VISIBLE_DEVICES'] = ''\n",
    "\n",
    "#inputModel = '/inputdata/BumbleB/jduarte/DeepJet/Train/train_Resnet_sv/KERAS_check_best_model.h5'\n",
    "inputModel = 'train_deep_sv/KERAS_check_best_model.h5'\n",
    "outputDir = 'out_deep_sv/'\n",
    "# test data:\n",
    "inputDataCollection = '/inputdata/BumbleB/convert_deepDoubleB_init_test_remove_msd40_200/dataCollection.dc'\n",
    "# training data:\n",
    "#inputDataCollection = '/inputdata/BumbleB/convert_deepDoubleB_init_train_val_remove_msd40_200/dataCollection.dc'\n",
    "\n",
    "if os.path.isdir(outputDir):\n",
    "    raise Exception('output directory must not exists yet')\n",
    "else: \n",
    "    os.mkdir(outputDir)\n",
    "\n",
    "model=load_model(inputModel, custom_objects=global_loss_list)\n",
    "    \n",
    "from DataCollection import DataCollection\n",
    "    \n",
    "testd=DataCollection()\n",
    "testd.readFromFile(inputDataCollection)\n",
    "    \n",
    "df = makeRoc(testd, model, outputDir)"
   ]
  },
  {
   "cell_type": "code",
   "execution_count": 7,
   "metadata": {
    "collapsed": true
   },
   "outputs": [],
   "source": [
    "def _byteify(data, ignore_dicts = False):\n",
    "    # if this is a unicode string, return its string representation\n",
    "    if isinstance(data, unicode):\n",
    "        return data.encode('utf-8')\n",
    "    # if this is a list of values, return list of byteified values\n",
    "    if isinstance(data, list):\n",
    "        return [ _byteify(item, ignore_dicts=True) for item in data ]\n",
    "    # if this is a dictionary, return dictionary of byteified keys and values\n",
    "    # but only if we haven't already byteified it\n",
    "    if isinstance(data, dict) and not ignore_dicts:\n",
    "        return {\n",
    "            _byteify(key, ignore_dicts=True): _byteify(value, ignore_dicts=True)\n",
    "            for key, value in data.iteritems()\n",
    "        }\n",
    "    # if it's anything else, return it in its original form\n",
    "    return data"
   ]
  },
  {
   "cell_type": "code",
   "execution_count": 9,
   "metadata": {},
   "outputs": [
    {
     "name": "stdout",
     "output_type": "stream",
     "text": [
      "The history saving thread hit an unexpected error (OperationalError('database is locked',)).History will not be written to the database.\n"
     ]
    },
    {
     "data": {
      "image/png": "[encoded data removed]",
      "text/plain": [
       "<matplotlib.figure.Figure at 0x7f644c86cd50>"
      ]
     },
     "metadata": {},
     "output_type": "display_data"
    }
   ],
   "source": [
    "import json\n",
    "inputLogs = 'train_deep_sv/full_info.log'\n",
    "f = open(inputLogs)\n",
    "myListOfDicts = json.load(f, object_hook=_byteify)\n",
    "myDictOfLists = {}\n",
    "for key, val in myListOfDicts[0].iteritems():\n",
    "    myDictOfLists[key] = []\n",
    "for i, myDict in enumerate(myListOfDicts):\n",
    "    for key, val in myDict.iteritems():\n",
    "        myDictOfLists[key].append(myDict[key])\n",
    "val_loss = np.asarray(myDictOfLists['val_loss'])\n",
    "loss = np.asarray(myDictOfLists['loss'])\n",
    "plt.plot(val_loss, label='validation')\n",
    "plt.plot(loss, label='train')\n",
    "plt.legend()\n",
    "plt.xlabel('epoch')\n",
    "plt.ylabel('loss')\n",
    "plt.savefig(\"out_deep_sv/loss.pdf\")"
   ]
  },
  {
   "cell_type": "code",
   "execution_count": 10,
   "metadata": {},
   "outputs": [
    {
     "name": "stdout",
     "output_type": "stream",
     "text": [
      "____________________________________________________________________________________________________\n",
      "Layer (type)                     Output Shape          Param #     Connected to                     \n",
      "====================================================================================================\n",
      "input_1 (InputLayer)             (None, 1, 27)         0                                            \n",
      "____________________________________________________________________________________________________\n",
      "input_2 (InputLayer)             (None, 5, 14)         0                                            \n",
      "____________________________________________________________________________________________________\n",
      "flatten_1 (Flatten)              (None, 27)            0                                            \n",
      "____________________________________________________________________________________________________\n",
      "flatten_2 (Flatten)              (None, 70)            0                                            \n",
      "____________________________________________________________________________________________________\n",
      "concat (Concatenate)             (None, 97)            0                                            \n",
      "____________________________________________________________________________________________________\n",
      "fc1_relu (Dense)                 (None, 64)            6272                                         \n",
      "____________________________________________________________________________________________________\n",
      "fc1_dropout (Dropout)            (None, 64)            0                                            \n",
      "____________________________________________________________________________________________________\n",
      "softmax (Dense)                  (None, 2)             130                                          \n",
      "====================================================================================================\n",
      "Total params: 6,402.0\n",
      "Trainable params: 6,402.0\n",
      "Non-trainable params: 0.0\n",
      "____________________________________________________________________________________________________\n",
      "None\n"
     ]
    }
   ],
   "source": [
    "model=load_model('train_deep_sv/KERAS_check_best_model.h5', custom_objects=global_loss_list)\n",
    "print model.summary()"
   ]
  },
  {
   "cell_type": "code",
   "execution_count": null,
   "metadata": {
    "collapsed": true
   },
   "outputs": [],
   "source": []
  }
 ],
 "metadata": {
  "kernelspec": {
   "display_name": "Python 2",
   "language": "python",
   "name": "python2"
  },
  "language_info": {
   "codemirror_mode": {
    "name": "ipython",
    "version": 2
   },
   "file_extension": ".py",
   "mimetype": "text/x-python",
   "name": "python",
   "nbconvert_exporter": "python",
   "pygments_lexer": "ipython2",
   "version": "2.7.13"
  }
 },
 "nbformat": 4,
 "nbformat_minor": 2
}

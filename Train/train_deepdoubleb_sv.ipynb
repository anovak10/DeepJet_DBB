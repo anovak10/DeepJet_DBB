{
 "cells": [
  {
   "cell_type": "code",
   "execution_count": 1,
   "metadata": {},
   "outputs": [
    {
     "name": "stdout",
     "output_type": "stream",
     "text": [
      "['../modules', '../Train', '/inputdata/BumbleB/jduarte/miniconda2/envs/deepjetLinux3_gpu/lib', '/inputdata/BumbleB/jduarte/miniconda2/envs/deepjetLinux3_gpu/lib/python27.zip', '/inputdata/BumbleB/jduarte/miniconda2/envs/deepjetLinux3_gpu/lib/python2.7', '/inputdata/BumbleB/jduarte/miniconda2/envs/deepjetLinux3_gpu/lib/python2.7/plat-linux2', '/inputdata/BumbleB/jduarte/miniconda2/envs/deepjetLinux3_gpu/lib/python2.7/lib-tk', '/inputdata/BumbleB/jduarte/miniconda2/envs/deepjetLinux3_gpu/lib/python2.7/lib-old', '/inputdata/BumbleB/jduarte/miniconda2/envs/deepjetLinux3_gpu/lib/python2.7/lib-dynload', '/inputdata/BumbleB/jduarte/miniconda2/envs/deepjetLinux3_gpu/lib/python2.7/site-packages', '/inputdata/BumbleB/jduarte/miniconda2/envs/deepjetLinux3_gpu/lib/python2.7/site-packages/setuptools-27.2.0-py2.7.egg', '', '/opt/conda/envs/python2/lib/python27.zip', '/opt/conda/envs/python2/lib/python2.7', '/opt/conda/envs/python2/lib/python2.7/plat-linux2', '/opt/conda/envs/python2/lib/python2.7/lib-tk', '/opt/conda/envs/python2/lib/python2.7/lib-old', '/opt/conda/envs/python2/lib/python2.7/lib-dynload', '/opt/conda/envs/python2/lib/python2.7/site-packages', '/opt/conda/envs/python2/lib/python2.7/site-packages/Mako-1.0.7-py2.7.egg', '/opt/conda/envs/python2/lib/python2.7/site-packages/cycler-0.10.0-py2.7.egg', '/opt/conda/envs/python2/lib/python2.7/site-packages/IPython/extensions', '/home/jovyan/.ipython']\n"
     ]
    },
    {
     "name": "stderr",
     "output_type": "stream",
     "text": [
      "Using TensorFlow backend.\n"
     ]
    }
   ],
   "source": [
    "import sys\n",
    "import os\n",
    "copypath = ['../modules', \n",
    "            '../Train', \n",
    "            '/inputdata/BumbleB/jduarte/miniconda2/envs/deepjetLinux3_gpu/lib', \n",
    "            '/inputdata/BumbleB/jduarte/miniconda2/envs/deepjetLinux3_gpu/lib/python27.zip', \n",
    "            '/inputdata/BumbleB/jduarte/miniconda2/envs/deepjetLinux3_gpu/lib/python2.7', \n",
    "            '/inputdata/BumbleB/jduarte/miniconda2/envs/deepjetLinux3_gpu/lib/python2.7/plat-linux2', \n",
    "            '/inputdata/BumbleB/jduarte/miniconda2/envs/deepjetLinux3_gpu/lib/python2.7/lib-tk', \n",
    "            '/inputdata/BumbleB/jduarte/miniconda2/envs/deepjetLinux3_gpu/lib/python2.7/lib-old', \n",
    "            '/inputdata/BumbleB/jduarte/miniconda2/envs/deepjetLinux3_gpu/lib/python2.7/lib-dynload', \n",
    "            '/inputdata/BumbleB/jduarte/miniconda2/envs/deepjetLinux3_gpu/lib/python2.7/site-packages', \n",
    "            '/inputdata/BumbleB/jduarte/miniconda2/envs/deepjetLinux3_gpu/lib/python2.7/site-packages/setuptools-27.2.0-py2.7.egg']\n",
    "for p in reversed(copypath):\n",
    "    sys.path.insert(0, p)\n",
    "print sys.path\n",
    "os.environ['KERAS_BACKEND'] = 'tensorflow'\n",
    "os.environ['DEEPJET'] = '../../DeepJet'\n",
    "#os.environ['LD_LIBRARY_PATH'] = '../modules:%s'%os.environ['LD_LIBRARY_PATH']\n",
    "#os.environ['PATH'] = '../scripts:%s'%os.environ['PATH']\n",
    "#os.environ['CONDA_PREFIX'] = '/inputdata/BumbleB/jduarte/miniconda2/envs/deepjetLinux3_gpu'\n",
    "#os.environ['LD_PRELOAD'] = '%s/lib/libmkl_core.so:%s/lib/libmkl_sequential.so'%(os.environ['CONDA_PREFIX'],os.environ['CONDA_PREFIX'])\n",
    "import keras\n",
    "keras.backend.set_image_data_format('channels_first')"
   ]
  },
  {
   "cell_type": "code",
   "execution_count": 2,
   "metadata": {
    "collapsed": true
   },
   "outputs": [],
   "source": [
    "class MyClass:\n",
    "    \"\"\"A simple example class\"\"\"\n",
    "    def __init__(self):\n",
    "        self.inputDataCollection = ''\n",
    "        self.outputDir = ''"
   ]
  },
  {
   "cell_type": "code",
   "execution_count": 3,
   "metadata": {},
   "outputs": [
    {
     "name": "stdout",
     "output_type": "stream",
     "text": [
      "Fri Sep 15 20:36:15 2017       \n",
      "+-----------------------------------------------------------------------------+\n",
      "| NVIDIA-SMI 375.66                 Driver Version: 375.66                    |\n",
      "|-------------------------------+----------------------+----------------------+\n",
      "| GPU  Name        Persistence-M| Bus-Id        Disp.A | Volatile Uncorr. ECC |\n",
      "| Fan  Temp  Perf  Pwr:Usage/Cap|         Memory-Usage | GPU-Util  Compute M. |\n",
      "|===============================+======================+======================|\n",
      "|   0  GeForce GTX 1080    Off  | 0000:04:00.0     Off |                  N/A |\n",
      "| 27%   35C    P8     9W / 180W |      0MiB /  8114MiB |      0%      Default |\n",
      "+-------------------------------+----------------------+----------------------+\n",
      "|   1  GeForce GTX 1080    Off  | 0000:05:00.0     Off |                  N/A |\n",
      "| 27%   34C    P8     9W / 180W |      0MiB /  8114MiB |      0%      Default |\n",
      "+-------------------------------+----------------------+----------------------+\n",
      "|   2  GeForce GTX 1080    Off  | 0000:06:00.0     Off |                  N/A |\n",
      "| 27%   37C    P8    10W / 180W |   7839MiB /  8114MiB |      0%      Default |\n",
      "+-------------------------------+----------------------+----------------------+\n",
      "|   3  GeForce GTX 1080    Off  | 0000:07:00.0     Off |                  N/A |\n",
      "| 31%   47C    P2    42W / 180W |   7839MiB /  8114MiB |     24%      Default |\n",
      "+-------------------------------+----------------------+----------------------+\n",
      "|   4  GeForce GTX 1080    Off  | 0000:0B:00.0     Off |                  N/A |\n",
      "| 27%   33C    P8    10W / 180W |    203MiB /  8114MiB |      0%      Default |\n",
      "+-------------------------------+----------------------+----------------------+\n",
      "|   5  GeForce GTX 1080    Off  | 0000:0C:00.0     Off |                  N/A |\n",
      "| 27%   35C    P8     9W / 180W |      0MiB /  8114MiB |      0%      Default |\n",
      "+-------------------------------+----------------------+----------------------+\n",
      "|   6  GeForce GTX 1080    Off  | 0000:0D:00.0     Off |                  N/A |\n",
      "| 27%   33C    P8     9W / 180W |      0MiB /  8114MiB |      0%      Default |\n",
      "+-------------------------------+----------------------+----------------------+\n",
      "|   7  GeForce GTX 1080    Off  | 0000:0E:00.0     Off |                  N/A |\n",
      "| 27%   36C    P8     9W / 180W |      0MiB /  8114MiB |      0%      Default |\n",
      "+-------------------------------+----------------------+----------------------+\n",
      "                                                                               \n",
      "+-----------------------------------------------------------------------------+\n",
      "| Processes:                                                       GPU Memory |\n",
      "|  GPU       PID  Type  Process name                               Usage      |\n",
      "|=============================================================================|\n",
      "+-----------------------------------------------------------------------------+\n"
     ]
    }
   ],
   "source": [
    "!rm -r train_Resnet_sv_original\n",
    "!nvidia-smi"
   ]
  },
  {
   "cell_type": "code",
   "execution_count": null,
   "metadata": {},
   "outputs": [
    {
     "name": "stdout",
     "output_type": "stream",
     "text": [
      "[[1, 27], [5, 14]]\n",
      "(?, 1, 27)\n",
      "(?, 5, 14)\n",
      "(?, 64)\n",
      "(?, 2)\n",
      "Epoch 1/500\n",
      "581/582 [============================>.] - ETA: 0s - loss: 0.4472 - acc: 0.9144\n",
      "***callbacks***\n",
      "saving losses to /home/jovyan/work/DeepJet/Train/train_Resnet_sv_original/losses.log\n",
      "Epoch 00000: val_loss improved from inf to 0.41477, saving model to /home/jovyan/work/DeepJet/Train/train_Resnet_sv_original//KERAS_check_best_model.h5\n",
      "Epoch 00000: saving model to /home/jovyan/work/DeepJet/Train/train_Resnet_sv_original//KERAS_check_model_last.h5\n",
      "\n",
      "***callbacks end***\n",
      "\n",
      "582/582 [==============================] - 55s - loss: 0.4471 - acc: 0.9145 - val_loss: 0.4148 - val_acc: 0.8853\n",
      "Epoch 2/500\n",
      "581/582 [============================>.] - ETA: 0s - loss: 0.3299 - acc: 0.9228\n",
      "***callbacks***\n",
      "saving losses to /home/jovyan/work/DeepJet/Train/train_Resnet_sv_original/losses.log\n",
      "Epoch 00001: val_loss improved from 0.41477 to 0.34156, saving model to /home/jovyan/work/DeepJet/Train/train_Resnet_sv_original//KERAS_check_best_model.h5\n",
      "Epoch 00001: saving model to /home/jovyan/work/DeepJet/Train/train_Resnet_sv_original//KERAS_check_model_last.h5\n",
      "\n",
      "***callbacks end***\n",
      "\n",
      "582/582 [==============================] - 93s - loss: 0.3298 - acc: 0.9228 - val_loss: 0.3416 - val_acc: 0.8943\n",
      "Epoch 3/500\n",
      " 78/582 [===>..........................] - ETA: 481s - loss: 0.3634 - acc: 0.8792"
     ]
    }
   ],
   "source": [
    "os.environ['CUDA_VISIBLE_DEVICES'] = '7'\n",
    "\n",
    "from training_base import training_base\n",
    "from Losses import loss_NLL\n",
    "import sys\n",
    "\n",
    "args = MyClass()\n",
    "args.inputDataCollection = '/inputdata/BumbleB/convert_deepDoubleB_init_train_val_remove_msd40_200/dataCollection.dc'\n",
    "args.outputDir = 'train_Resnet_sv_original/'\n",
    "\n",
    "#also does all the parsing\n",
    "train=training_base(testrun=False,args=args)\n",
    "\n",
    "\n",
    "if not train.modelSet():\n",
    "    from DeepJet_models_ResNet import resnet_model_doubleb_sv_original\n",
    "\n",
    "    train.setModel(resnet_model_doubleb_sv_original)\n",
    "    \n",
    "    train.compileModel(learningrate=0.000001,\n",
    "                       loss=['categorical_crossentropy'],\n",
    "                       metrics=['accuracy'])\n",
    "    \n",
    "\n",
    "model,history,callbacks = train.trainModel(nepochs=500, \n",
    "                                 batchsize=8192, \n",
    "                                 stop_patience=100, \n",
    "                                 lr_factor=0.5, \n",
    "                                 lr_patience=10, \n",
    "                                 lr_epsilon=0.000001, \n",
    "                                 lr_cooldown=2, \n",
    "                                 lr_minimum=0.0000001, \n",
    "                                 maxqsize=100)"
   ]
  },
  {
   "cell_type": "code",
   "execution_count": null,
   "metadata": {
    "collapsed": true
   },
   "outputs": [],
   "source": []
  },
  {
   "cell_type": "code",
   "execution_count": null,
   "metadata": {
    "collapsed": true
   },
   "outputs": [],
   "source": []
  }
 ],
 "metadata": {
  "kernelspec": {
   "display_name": "Python 2",
   "language": "python",
   "name": "python2"
  },
  "language_info": {
   "codemirror_mode": {
    "name": "ipython",
    "version": 2
   },
   "file_extension": ".py",
   "mimetype": "text/x-python",
   "name": "python",
   "nbconvert_exporter": "python",
   "pygments_lexer": "ipython2",
   "version": "2.7.13"
  }
 },
 "nbformat": 4,
 "nbformat_minor": 2
}

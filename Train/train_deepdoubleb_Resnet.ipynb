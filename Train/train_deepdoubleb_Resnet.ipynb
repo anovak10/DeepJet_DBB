{
 "cells": [
  {
   "cell_type": "code",
   "execution_count": 1,
   "metadata": {},
   "outputs": [
    {
     "name": "stdout",
     "output_type": "stream",
     "text": [
      "['../modules', '../Train', '/inputdata/BumbleB/jduarte/miniconda2/envs/deepjetLinux3_gpu/lib', '/inputdata/BumbleB/jduarte/miniconda2/envs/deepjetLinux3_gpu/lib/python27.zip', '/inputdata/BumbleB/jduarte/miniconda2/envs/deepjetLinux3_gpu/lib/python2.7', '/inputdata/BumbleB/jduarte/miniconda2/envs/deepjetLinux3_gpu/lib/python2.7/plat-linux2', '/inputdata/BumbleB/jduarte/miniconda2/envs/deepjetLinux3_gpu/lib/python2.7/lib-tk', '/inputdata/BumbleB/jduarte/miniconda2/envs/deepjetLinux3_gpu/lib/python2.7/lib-old', '/inputdata/BumbleB/jduarte/miniconda2/envs/deepjetLinux3_gpu/lib/python2.7/lib-dynload', '/inputdata/BumbleB/jduarte/miniconda2/envs/deepjetLinux3_gpu/lib/python2.7/site-packages', '/inputdata/BumbleB/jduarte/miniconda2/envs/deepjetLinux3_gpu/lib/python2.7/site-packages/setuptools-27.2.0-py2.7.egg', '', '/opt/conda/envs/python2/lib/python27.zip', '/opt/conda/envs/python2/lib/python2.7', '/opt/conda/envs/python2/lib/python2.7/plat-linux2', '/opt/conda/envs/python2/lib/python2.7/lib-tk', '/opt/conda/envs/python2/lib/python2.7/lib-old', '/opt/conda/envs/python2/lib/python2.7/lib-dynload', '/opt/conda/envs/python2/lib/python2.7/site-packages', '/opt/conda/envs/python2/lib/python2.7/site-packages/Mako-1.0.7-py2.7.egg', '/opt/conda/envs/python2/lib/python2.7/site-packages/cycler-0.10.0-py2.7.egg', '/opt/conda/envs/python2/lib/python2.7/site-packages/IPython/extensions', '/home/jovyan/.ipython']\n"
     ]
    },
    {
     "name": "stderr",
     "output_type": "stream",
     "text": [
      "Using TensorFlow backend.\n"
     ]
    }
   ],
   "source": [
    "import sys\n",
    "import os\n",
    "copypath = ['../modules', \n",
    "            '../Train', \n",
    "            '/inputdata/BumbleB/jduarte/miniconda2/envs/deepjetLinux3_gpu/lib', \n",
    "            '/inputdata/BumbleB/jduarte/miniconda2/envs/deepjetLinux3_gpu/lib/python27.zip', \n",
    "            '/inputdata/BumbleB/jduarte/miniconda2/envs/deepjetLinux3_gpu/lib/python2.7', \n",
    "            '/inputdata/BumbleB/jduarte/miniconda2/envs/deepjetLinux3_gpu/lib/python2.7/plat-linux2', \n",
    "            '/inputdata/BumbleB/jduarte/miniconda2/envs/deepjetLinux3_gpu/lib/python2.7/lib-tk', \n",
    "            '/inputdata/BumbleB/jduarte/miniconda2/envs/deepjetLinux3_gpu/lib/python2.7/lib-old', \n",
    "            '/inputdata/BumbleB/jduarte/miniconda2/envs/deepjetLinux3_gpu/lib/python2.7/lib-dynload', \n",
    "            '/inputdata/BumbleB/jduarte/miniconda2/envs/deepjetLinux3_gpu/lib/python2.7/site-packages', \n",
    "            '/inputdata/BumbleB/jduarte/miniconda2/envs/deepjetLinux3_gpu/lib/python2.7/site-packages/setuptools-27.2.0-py2.7.egg']\n",
    "for p in reversed(copypath):\n",
    "    sys.path.insert(0, p)\n",
    "print sys.path\n",
    "os.environ['KERAS_BACKEND'] = 'tensorflow'\n",
    "os.environ['DEEPJET'] = '../../DeepJet'\n",
    "#os.environ['LD_LIBRARY_PATH'] = '../modules:%s'%os.environ['LD_LIBRARY_PATH']\n",
    "#os.environ['PATH'] = '../scripts:%s'%os.environ['PATH']\n",
    "#os.environ['CONDA_PREFIX'] = '/inputdata/BumbleB/jduarte/miniconda2/envs/deepjetLinux3_gpu'\n",
    "#os.environ['LD_PRELOAD'] = '%s/lib/libmkl_core.so:%s/lib/libmkl_sequential.so'%(os.environ['CONDA_PREFIX'],os.environ['CONDA_PREFIX'])\n",
    "import keras\n",
    "keras.backend.set_image_data_format('channels_first')"
   ]
  },
  {
   "cell_type": "code",
   "execution_count": 2,
   "metadata": {
    "collapsed": true
   },
   "outputs": [],
   "source": [
    "class MyClass:\n",
    "    \"\"\"A simple example class\"\"\"\n",
    "    def __init__(self):\n",
    "        self.inputDataCollection = ''\n",
    "        self.outputDir = ''"
   ]
  },
  {
   "cell_type": "code",
   "execution_count": null,
   "metadata": {},
   "outputs": [
    {
     "name": "stdout",
     "output_type": "stream",
     "text": [
      "[[1, 27], [5, 14]]\n",
      "(?, 1, 27)\n",
      "(?, 5, 14)\n",
      "(?, ?)\n",
      "(?, 32)\n",
      "(?, 2)\n",
      "____________________________________________________________________________________________________\n",
      "Layer (type)                     Output Shape          Param #     Connected to                     \n",
      "====================================================================================================\n",
      "input_2 (InputLayer)             (None, 5, 14)         0                                            \n",
      "____________________________________________________________________________________________________\n",
      "sv_bn_data (BatchNormalization)  (None, 5, 14)         42                                           \n",
      "____________________________________________________________________________________________________\n",
      "sv_conv0 (Conv1D)                (None, 5, 32)         1344                                         \n",
      "____________________________________________________________________________________________________\n",
      "sv_stage1_unit1_bn1 (BatchNormal (None, 5, 32)         128                                          \n",
      "____________________________________________________________________________________________________\n",
      "sv_stage1_unit1_relu1 (Activatio (None, 5, 32)         0                                            \n",
      "____________________________________________________________________________________________________\n",
      "sv_stage1_unit1_conv1 (Conv1D)   (None, 5, 32)         3072                                         \n",
      "____________________________________________________________________________________________________\n",
      "sv_stage1_unit1_bn2 (BatchNormal (None, 5, 32)         128                                          \n",
      "____________________________________________________________________________________________________\n",
      "sv_stage1_unit1_relu2 (Activatio (None, 5, 32)         0                                            \n",
      "____________________________________________________________________________________________________\n",
      "sv_stage1_unit1_conv2 (Conv1D)   (None, 5, 32)         3072                                         \n",
      "____________________________________________________________________________________________________\n",
      "sv_stage1_unit1_shortcut (Conv1D (None, 5, 32)         1024                                         \n",
      "____________________________________________________________________________________________________\n",
      "add_1 (Add)                      [(None, 5, 32), (None 0                                            \n",
      "____________________________________________________________________________________________________\n",
      "sv_bn1 (BatchNormalization)      (None, 5, 32)         128                                          \n",
      "____________________________________________________________________________________________________\n",
      "input_1 (InputLayer)             (None, 1, 27)         0                                            \n",
      "____________________________________________________________________________________________________\n",
      "sv_relu1 (Activation)            (None, 5, 32)         0                                            \n",
      "____________________________________________________________________________________________________\n",
      "flatten_1 (Flatten)              (None, 27)            0                                            \n",
      "____________________________________________________________________________________________________\n",
      "sv_pool (GlobalAveragePooling1D) (None, 32)            0                                            \n",
      "____________________________________________________________________________________________________\n",
      "concat (Concatenate)             (None, 59)            0                                            \n",
      "____________________________________________________________________________________________________\n",
      "fc1_relu (Dense)                 (None, 512)           30720                                        \n",
      "____________________________________________________________________________________________________\n",
      "softmax (Dense)                  (None, 2)             1026                                         \n",
      "====================================================================================================\n",
      "Total params: 40,684.0\n",
      "Trainable params: 40,464.0\n",
      "Non-trainable params: 220.0\n",
      "____________________________________________________________________________________________________\n",
      "None\n",
      "Epoch 1/1000\n",
      "3903/3904 [============================>.] - ETA: 0s - loss: 0.0228 - acc: 0.9933\n",
      "***callbacks***\n",
      "saving losses to /home/jovyan/work/DeepJet/Train/train_Resnet_sv_4/losses.log\n",
      "Epoch 00000: val_loss improved from inf to 0.96644, saving model to /home/jovyan/work/DeepJet/Train/train_Resnet_sv_4//KERAS_check_best_model.h5\n",
      "Epoch 00000: saving model to /home/jovyan/work/DeepJet/Train/train_Resnet_sv_4//KERAS_check_model_last.h5\n",
      "\n",
      "***callbacks end***\n",
      "\n",
      "3904/3904 [==============================] - 89s - loss: 0.0228 - acc: 0.9933 - val_loss: 0.9664 - val_acc: 0.8796\n",
      "Epoch 2/1000\n",
      "3901/3904 [============================>.] - ETA: 0s - loss: 0.0207 - acc: 0.9939\n",
      "***callbacks***\n",
      "saving losses to /home/jovyan/work/DeepJet/Train/train_Resnet_sv_4/losses.log\n",
      "Epoch 00001: val_loss improved from 0.96644 to 0.64050, saving model to /home/jovyan/work/DeepJet/Train/train_Resnet_sv_4//KERAS_check_best_model.h5\n",
      "Epoch 00001: saving model to /home/jovyan/work/DeepJet/Train/train_Resnet_sv_4//KERAS_check_model_last.h5\n",
      "\n",
      "***callbacks end***\n",
      "\n",
      "3904/3904 [==============================] - 86s - loss: 0.0207 - acc: 0.9939 - val_loss: 0.6405 - val_acc: 0.9004\n",
      "Epoch 3/1000\n",
      "3541/3904 [==========================>...] - ETA: 7s - loss: 0.0974 - acc: 0.9800- ETA: 7s - loss: 0.0974 - acc: 0.9"
     ]
    }
   ],
   "source": [
    "os.environ['CUDA_VISIBLE_DEVICES'] = '4'\n",
    "\n",
    "from training_base import training_base\n",
    "from Losses import loss_NLL\n",
    "import sys\n",
    "\n",
    "args = MyClass()\n",
    "args.inputDataCollection = '/inputdata/BumbleB/convert_deepDoubleB_init_train_val/dataCollection.dc'\n",
    "args.outputDir = 'train_Resnet_sv_4/'\n",
    "\n",
    "#also does all the parsing\n",
    "train=training_base(testrun=False,args=args)\n",
    "\n",
    "\n",
    "if not train.modelSet():\n",
    "    from DeepJet_models_ResNet import resnet_model_doubleb_sv\n",
    "\n",
    "    train.setModel(resnet_model_doubleb_sv)\n",
    "    \n",
    "    train.compileModel(learningrate=0.001,\n",
    "                       loss=['categorical_crossentropy'],\n",
    "                       metrics=['accuracy'])\n",
    "    \n",
    "\n",
    "model,history,callbacks = train.trainModel(nepochs=1000, \n",
    "                                 batchsize=4096, \n",
    "                                 stop_patience=100, \n",
    "                                 lr_factor=0.5, \n",
    "                                 lr_patience=10, \n",
    "                                 lr_epsilon=0.0001, \n",
    "                                 lr_cooldown=2, \n",
    "                                 lr_minimum=0.0001, \n",
    "                                 maxqsize=100)"
   ]
  },
  {
   "cell_type": "code",
   "execution_count": 4,
   "metadata": {
    "collapsed": true
   },
   "outputs": [],
   "source": [
    "!rm -r train_Resnet_sv_4"
   ]
  },
  {
   "cell_type": "code",
   "execution_count": null,
   "metadata": {
    "collapsed": true
   },
   "outputs": [],
   "source": []
  }
 ],
 "metadata": {
  "kernelspec": {
   "display_name": "Python 2",
   "language": "python",
   "name": "python2"
  },
  "language_info": {
   "codemirror_mode": {
    "name": "ipython",
    "version": 2
   },
   "file_extension": ".py",
   "mimetype": "text/x-python",
   "name": "python",
   "nbconvert_exporter": "python",
   "pygments_lexer": "ipython2",
   "version": "2.7.13"
  }
 },
 "nbformat": 4,
 "nbformat_minor": 2
}
